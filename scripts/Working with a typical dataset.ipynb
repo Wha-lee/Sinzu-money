{
 "cells": [
  {
   "cell_type": "code",
   "execution_count": 1,
   "metadata": {},
   "outputs": [],
   "source": [
    "import numpy as np\n",
    "import pandas as pd"
   ]
  },
  {
   "cell_type": "code",
   "execution_count": 2,
   "metadata": {},
   "outputs": [],
   "source": [
    "happy_data = pd.read_csv(\"happyscore_income.csv\")"
   ]
  },
  {
   "cell_type": "code",
   "execution_count": 3,
   "metadata": {},
   "outputs": [
    {
     "data": {
      "text/html": [
       "<div>\n",
       "<style scoped>\n",
       "    .dataframe tbody tr th:only-of-type {\n",
       "        vertical-align: middle;\n",
       "    }\n",
       "\n",
       "    .dataframe tbody tr th {\n",
       "        vertical-align: top;\n",
       "    }\n",
       "\n",
       "    .dataframe thead th {\n",
       "        text-align: right;\n",
       "    }\n",
       "</style>\n",
       "<table border=\"1\" class=\"dataframe\">\n",
       "  <thead>\n",
       "    <tr style=\"text-align: right;\">\n",
       "      <th></th>\n",
       "      <th>country</th>\n",
       "      <th>adjusted_satisfaction</th>\n",
       "      <th>avg_satisfaction</th>\n",
       "      <th>std_satisfaction</th>\n",
       "      <th>avg_income</th>\n",
       "      <th>median_income</th>\n",
       "      <th>income_inequality</th>\n",
       "      <th>region</th>\n",
       "      <th>happyScore</th>\n",
       "      <th>GDP</th>\n",
       "      <th>country.1</th>\n",
       "    </tr>\n",
       "  </thead>\n",
       "  <tbody>\n",
       "    <tr>\n",
       "      <td>0</td>\n",
       "      <td>Armenia</td>\n",
       "      <td>37</td>\n",
       "      <td>4.9</td>\n",
       "      <td>2.42</td>\n",
       "      <td>2096.76</td>\n",
       "      <td>1731.506667</td>\n",
       "      <td>31.445556</td>\n",
       "      <td>'Central and Eastern Europe'</td>\n",
       "      <td>4.350</td>\n",
       "      <td>0.76821</td>\n",
       "      <td>Armenia</td>\n",
       "    </tr>\n",
       "    <tr>\n",
       "      <td>1</td>\n",
       "      <td>Angola</td>\n",
       "      <td>26</td>\n",
       "      <td>4.3</td>\n",
       "      <td>3.19</td>\n",
       "      <td>1448.88</td>\n",
       "      <td>1044.240000</td>\n",
       "      <td>42.720000</td>\n",
       "      <td>'Sub-Saharan Africa'</td>\n",
       "      <td>4.033</td>\n",
       "      <td>0.75778</td>\n",
       "      <td>Angola</td>\n",
       "    </tr>\n",
       "    <tr>\n",
       "      <td>2</td>\n",
       "      <td>Argentina</td>\n",
       "      <td>60</td>\n",
       "      <td>7.1</td>\n",
       "      <td>1.91</td>\n",
       "      <td>7101.12</td>\n",
       "      <td>5109.400000</td>\n",
       "      <td>45.475556</td>\n",
       "      <td>'Latin America and Caribbean'</td>\n",
       "      <td>6.574</td>\n",
       "      <td>1.05351</td>\n",
       "      <td>Argentina</td>\n",
       "    </tr>\n",
       "    <tr>\n",
       "      <td>3</td>\n",
       "      <td>Austria</td>\n",
       "      <td>59</td>\n",
       "      <td>7.2</td>\n",
       "      <td>2.11</td>\n",
       "      <td>19457.04</td>\n",
       "      <td>16879.620000</td>\n",
       "      <td>30.296250</td>\n",
       "      <td>'Western Europe'</td>\n",
       "      <td>7.200</td>\n",
       "      <td>1.33723</td>\n",
       "      <td>Austria</td>\n",
       "    </tr>\n",
       "    <tr>\n",
       "      <td>4</td>\n",
       "      <td>Australia</td>\n",
       "      <td>65</td>\n",
       "      <td>7.6</td>\n",
       "      <td>1.80</td>\n",
       "      <td>19917.00</td>\n",
       "      <td>15846.060000</td>\n",
       "      <td>35.285000</td>\n",
       "      <td>'Australia and New Zealand'</td>\n",
       "      <td>7.284</td>\n",
       "      <td>1.33358</td>\n",
       "      <td>Australia</td>\n",
       "    </tr>\n",
       "  </tbody>\n",
       "</table>\n",
       "</div>"
      ],
      "text/plain": [
       "     country  adjusted_satisfaction  avg_satisfaction  std_satisfaction  \\\n",
       "0    Armenia                     37               4.9              2.42   \n",
       "1     Angola                     26               4.3              3.19   \n",
       "2  Argentina                     60               7.1              1.91   \n",
       "3    Austria                     59               7.2              2.11   \n",
       "4  Australia                     65               7.6              1.80   \n",
       "\n",
       "   avg_income  median_income  income_inequality  \\\n",
       "0     2096.76    1731.506667          31.445556   \n",
       "1     1448.88    1044.240000          42.720000   \n",
       "2     7101.12    5109.400000          45.475556   \n",
       "3    19457.04   16879.620000          30.296250   \n",
       "4    19917.00   15846.060000          35.285000   \n",
       "\n",
       "                          region  happyScore      GDP  country.1  \n",
       "0   'Central and Eastern Europe'       4.350  0.76821    Armenia  \n",
       "1           'Sub-Saharan Africa'       4.033  0.75778     Angola  \n",
       "2  'Latin America and Caribbean'       6.574  1.05351  Argentina  \n",
       "3               'Western Europe'       7.200  1.33723    Austria  \n",
       "4    'Australia and New Zealand'       7.284  1.33358  Australia  "
      ]
     },
     "execution_count": 3,
     "metadata": {},
     "output_type": "execute_result"
    }
   ],
   "source": [
    "happy_data.head()"
   ]
  },
  {
   "cell_type": "code",
   "execution_count": 4,
   "metadata": {},
   "outputs": [
    {
     "data": {
      "text/html": [
       "<div>\n",
       "<style scoped>\n",
       "    .dataframe tbody tr th:only-of-type {\n",
       "        vertical-align: middle;\n",
       "    }\n",
       "\n",
       "    .dataframe tbody tr th {\n",
       "        vertical-align: top;\n",
       "    }\n",
       "\n",
       "    .dataframe thead th {\n",
       "        text-align: right;\n",
       "    }\n",
       "</style>\n",
       "<table border=\"1\" class=\"dataframe\">\n",
       "  <thead>\n",
       "    <tr style=\"text-align: right;\">\n",
       "      <th></th>\n",
       "      <th>adjusted_satisfaction</th>\n",
       "      <th>avg_satisfaction</th>\n",
       "      <th>std_satisfaction</th>\n",
       "      <th>avg_income</th>\n",
       "      <th>median_income</th>\n",
       "      <th>income_inequality</th>\n",
       "      <th>happyScore</th>\n",
       "      <th>GDP</th>\n",
       "    </tr>\n",
       "  </thead>\n",
       "  <tbody>\n",
       "    <tr>\n",
       "      <td>count</td>\n",
       "      <td>111.000000</td>\n",
       "      <td>111.000000</td>\n",
       "      <td>111.000000</td>\n",
       "      <td>111.000000</td>\n",
       "      <td>111.000000</td>\n",
       "      <td>111.000000</td>\n",
       "      <td>111.000000</td>\n",
       "      <td>111.000000</td>\n",
       "    </tr>\n",
       "    <tr>\n",
       "      <td>mean</td>\n",
       "      <td>48.729730</td>\n",
       "      <td>5.936937</td>\n",
       "      <td>2.124595</td>\n",
       "      <td>6442.751416</td>\n",
       "      <td>5186.005304</td>\n",
       "      <td>38.417805</td>\n",
       "      <td>5.421910</td>\n",
       "      <td>0.841909</td>\n",
       "    </tr>\n",
       "    <tr>\n",
       "      <td>std</td>\n",
       "      <td>12.364131</td>\n",
       "      <td>1.356394</td>\n",
       "      <td>0.316546</td>\n",
       "      <td>6479.533692</td>\n",
       "      <td>5587.037239</td>\n",
       "      <td>8.375557</td>\n",
       "      <td>1.180801</td>\n",
       "      <td>0.387591</td>\n",
       "    </tr>\n",
       "    <tr>\n",
       "      <td>min</td>\n",
       "      <td>19.000000</td>\n",
       "      <td>2.500000</td>\n",
       "      <td>1.380000</td>\n",
       "      <td>572.880000</td>\n",
       "      <td>415.480000</td>\n",
       "      <td>24.215000</td>\n",
       "      <td>2.839000</td>\n",
       "      <td>0.015300</td>\n",
       "    </tr>\n",
       "    <tr>\n",
       "      <td>25%</td>\n",
       "      <td>40.000000</td>\n",
       "      <td>5.100000</td>\n",
       "      <td>1.910000</td>\n",
       "      <td>1519.388684</td>\n",
       "      <td>1167.717333</td>\n",
       "      <td>32.182857</td>\n",
       "      <td>4.568000</td>\n",
       "      <td>0.509930</td>\n",
       "    </tr>\n",
       "    <tr>\n",
       "      <td>50%</td>\n",
       "      <td>48.000000</td>\n",
       "      <td>6.000000</td>\n",
       "      <td>2.130000</td>\n",
       "      <td>3889.320000</td>\n",
       "      <td>2646.973333</td>\n",
       "      <td>36.480000</td>\n",
       "      <td>5.268000</td>\n",
       "      <td>0.918610</td>\n",
       "    </tr>\n",
       "    <tr>\n",
       "      <td>75%</td>\n",
       "      <td>57.000000</td>\n",
       "      <td>7.000000</td>\n",
       "      <td>2.330000</td>\n",
       "      <td>7867.402500</td>\n",
       "      <td>6581.124643</td>\n",
       "      <td>43.380000</td>\n",
       "      <td>6.392000</td>\n",
       "      <td>1.149485</td>\n",
       "    </tr>\n",
       "    <tr>\n",
       "      <td>max</td>\n",
       "      <td>74.000000</td>\n",
       "      <td>8.500000</td>\n",
       "      <td>3.190000</td>\n",
       "      <td>26182.275000</td>\n",
       "      <td>22240.230000</td>\n",
       "      <td>63.726667</td>\n",
       "      <td>7.587000</td>\n",
       "      <td>1.563910</td>\n",
       "    </tr>\n",
       "  </tbody>\n",
       "</table>\n",
       "</div>"
      ],
      "text/plain": [
       "       adjusted_satisfaction  avg_satisfaction  std_satisfaction  \\\n",
       "count             111.000000        111.000000        111.000000   \n",
       "mean               48.729730          5.936937          2.124595   \n",
       "std                12.364131          1.356394          0.316546   \n",
       "min                19.000000          2.500000          1.380000   \n",
       "25%                40.000000          5.100000          1.910000   \n",
       "50%                48.000000          6.000000          2.130000   \n",
       "75%                57.000000          7.000000          2.330000   \n",
       "max                74.000000          8.500000          3.190000   \n",
       "\n",
       "         avg_income  median_income  income_inequality  happyScore         GDP  \n",
       "count    111.000000     111.000000         111.000000  111.000000  111.000000  \n",
       "mean    6442.751416    5186.005304          38.417805    5.421910    0.841909  \n",
       "std     6479.533692    5587.037239           8.375557    1.180801    0.387591  \n",
       "min      572.880000     415.480000          24.215000    2.839000    0.015300  \n",
       "25%     1519.388684    1167.717333          32.182857    4.568000    0.509930  \n",
       "50%     3889.320000    2646.973333          36.480000    5.268000    0.918610  \n",
       "75%     7867.402500    6581.124643          43.380000    6.392000    1.149485  \n",
       "max    26182.275000   22240.230000          63.726667    7.587000    1.563910  "
      ]
     },
     "execution_count": 4,
     "metadata": {},
     "output_type": "execute_result"
    }
   ],
   "source": [
    "happy_data.describe()"
   ]
  },
  {
   "cell_type": "code",
   "execution_count": 5,
   "metadata": {},
   "outputs": [
    {
     "data": {
      "text/plain": [
       "572.88"
      ]
     },
     "execution_count": 5,
     "metadata": {},
     "output_type": "execute_result"
    }
   ],
   "source": [
    "income = happy_data['avg_income'].min()\n",
    "income"
   ]
  },
  {
   "cell_type": "code",
   "execution_count": 6,
   "metadata": {},
   "outputs": [
    {
     "data": {
      "text/plain": [
       "7.587000000000001"
      ]
     },
     "execution_count": 6,
     "metadata": {},
     "output_type": "execute_result"
    }
   ],
   "source": [
    "happy = happy_data['happyScore'].max()\n",
    "happy"
   ]
  },
  {
   "cell_type": "code",
   "execution_count": 7,
   "metadata": {},
   "outputs": [
    {
     "data": {
      "text/plain": [
       "<matplotlib.collections.PathCollection at 0x24f58d94148>"
      ]
     },
     "execution_count": 7,
     "metadata": {},
     "output_type": "execute_result"
    }
   ],
   "source": [
    "import matplotlib.pyplot as plt\n",
    "\n",
    "plt.scatter(happy_data[\"avg_income\"], happy_data['happyScore'])\n",
    "#plt.show()"
   ]
  },
  {
   "cell_type": "code",
   "execution_count": 8,
   "metadata": {},
   "outputs": [
    {
     "data": {
      "text/plain": [
       "0           Armenia\n",
       "1            Angola\n",
       "2         Argentina\n",
       "3           Austria\n",
       "4         Australia\n",
       "           ...     \n",
       "106         Uruguay\n",
       "107         Vietnam\n",
       "108    South Africa\n",
       "109          Zambia\n",
       "110        Zimbabwe\n",
       "Name: country, Length: 111, dtype: object"
      ]
     },
     "execution_count": 8,
     "metadata": {},
     "output_type": "execute_result"
    }
   ],
   "source": [
    "happy_data.country"
   ]
  },
  {
   "cell_type": "code",
   "execution_count": 31,
   "metadata": {},
   "outputs": [],
   "source": [
    "happy_data.sort_values(\"avg_income\", inplace=True)"
   ]
  },
  {
   "cell_type": "code",
   "execution_count": 9,
   "metadata": {},
   "outputs": [
    {
     "data": {
      "text/html": [
       "<div>\n",
       "<style scoped>\n",
       "    .dataframe tbody tr th:only-of-type {\n",
       "        vertical-align: middle;\n",
       "    }\n",
       "\n",
       "    .dataframe tbody tr th {\n",
       "        vertical-align: top;\n",
       "    }\n",
       "\n",
       "    .dataframe thead th {\n",
       "        text-align: right;\n",
       "    }\n",
       "</style>\n",
       "<table border=\"1\" class=\"dataframe\">\n",
       "  <thead>\n",
       "    <tr style=\"text-align: right;\">\n",
       "      <th></th>\n",
       "      <th>country</th>\n",
       "      <th>adjusted_satisfaction</th>\n",
       "      <th>avg_satisfaction</th>\n",
       "      <th>std_satisfaction</th>\n",
       "      <th>avg_income</th>\n",
       "      <th>median_income</th>\n",
       "      <th>income_inequality</th>\n",
       "      <th>region</th>\n",
       "      <th>happyScore</th>\n",
       "      <th>GDP</th>\n",
       "      <th>country.1</th>\n",
       "    </tr>\n",
       "  </thead>\n",
       "  <tbody>\n",
       "    <tr>\n",
       "      <td>0</td>\n",
       "      <td>Armenia</td>\n",
       "      <td>37</td>\n",
       "      <td>4.9</td>\n",
       "      <td>2.42</td>\n",
       "      <td>2096.76</td>\n",
       "      <td>1731.506667</td>\n",
       "      <td>31.445556</td>\n",
       "      <td>'Central and Eastern Europe'</td>\n",
       "      <td>4.350</td>\n",
       "      <td>0.76821</td>\n",
       "      <td>Armenia</td>\n",
       "    </tr>\n",
       "    <tr>\n",
       "      <td>1</td>\n",
       "      <td>Angola</td>\n",
       "      <td>26</td>\n",
       "      <td>4.3</td>\n",
       "      <td>3.19</td>\n",
       "      <td>1448.88</td>\n",
       "      <td>1044.240000</td>\n",
       "      <td>42.720000</td>\n",
       "      <td>'Sub-Saharan Africa'</td>\n",
       "      <td>4.033</td>\n",
       "      <td>0.75778</td>\n",
       "      <td>Angola</td>\n",
       "    </tr>\n",
       "    <tr>\n",
       "      <td>2</td>\n",
       "      <td>Argentina</td>\n",
       "      <td>60</td>\n",
       "      <td>7.1</td>\n",
       "      <td>1.91</td>\n",
       "      <td>7101.12</td>\n",
       "      <td>5109.400000</td>\n",
       "      <td>45.475556</td>\n",
       "      <td>'Latin America and Caribbean'</td>\n",
       "      <td>6.574</td>\n",
       "      <td>1.05351</td>\n",
       "      <td>Argentina</td>\n",
       "    </tr>\n",
       "    <tr>\n",
       "      <td>3</td>\n",
       "      <td>Austria</td>\n",
       "      <td>59</td>\n",
       "      <td>7.2</td>\n",
       "      <td>2.11</td>\n",
       "      <td>19457.04</td>\n",
       "      <td>16879.620000</td>\n",
       "      <td>30.296250</td>\n",
       "      <td>'Western Europe'</td>\n",
       "      <td>7.200</td>\n",
       "      <td>1.33723</td>\n",
       "      <td>Austria</td>\n",
       "    </tr>\n",
       "    <tr>\n",
       "      <td>4</td>\n",
       "      <td>Australia</td>\n",
       "      <td>65</td>\n",
       "      <td>7.6</td>\n",
       "      <td>1.80</td>\n",
       "      <td>19917.00</td>\n",
       "      <td>15846.060000</td>\n",
       "      <td>35.285000</td>\n",
       "      <td>'Australia and New Zealand'</td>\n",
       "      <td>7.284</td>\n",
       "      <td>1.33358</td>\n",
       "      <td>Australia</td>\n",
       "    </tr>\n",
       "    <tr>\n",
       "      <td>...</td>\n",
       "      <td>...</td>\n",
       "      <td>...</td>\n",
       "      <td>...</td>\n",
       "      <td>...</td>\n",
       "      <td>...</td>\n",
       "      <td>...</td>\n",
       "      <td>...</td>\n",
       "      <td>...</td>\n",
       "      <td>...</td>\n",
       "      <td>...</td>\n",
       "      <td>...</td>\n",
       "    </tr>\n",
       "    <tr>\n",
       "      <td>106</td>\n",
       "      <td>Uruguay</td>\n",
       "      <td>58</td>\n",
       "      <td>7.0</td>\n",
       "      <td>2.13</td>\n",
       "      <td>7544.40</td>\n",
       "      <td>5269.226667</td>\n",
       "      <td>45.014444</td>\n",
       "      <td>'Latin America and Caribbean'</td>\n",
       "      <td>6.485</td>\n",
       "      <td>1.06166</td>\n",
       "      <td>Uruguay</td>\n",
       "    </tr>\n",
       "    <tr>\n",
       "      <td>107</td>\n",
       "      <td>Vietnam</td>\n",
       "      <td>53</td>\n",
       "      <td>6.1</td>\n",
       "      <td>1.77</td>\n",
       "      <td>2231.40</td>\n",
       "      <td>1643.580000</td>\n",
       "      <td>39.242500</td>\n",
       "      <td>'Southeastern Asia'</td>\n",
       "      <td>5.360</td>\n",
       "      <td>0.63216</td>\n",
       "      <td>Vietnam</td>\n",
       "    </tr>\n",
       "    <tr>\n",
       "      <td>108</td>\n",
       "      <td>South Africa</td>\n",
       "      <td>49</td>\n",
       "      <td>6.3</td>\n",
       "      <td>2.47</td>\n",
       "      <td>3889.32</td>\n",
       "      <td>1506.400000</td>\n",
       "      <td>63.726667</td>\n",
       "      <td>'Sub-Saharan Africa'</td>\n",
       "      <td>4.642</td>\n",
       "      <td>0.92049</td>\n",
       "      <td>South Africa</td>\n",
       "    </tr>\n",
       "    <tr>\n",
       "      <td>109</td>\n",
       "      <td>Zambia</td>\n",
       "      <td>37</td>\n",
       "      <td>5.0</td>\n",
       "      <td>2.61</td>\n",
       "      <td>956.76</td>\n",
       "      <td>510.060000</td>\n",
       "      <td>55.120000</td>\n",
       "      <td>'Sub-Saharan Africa'</td>\n",
       "      <td>5.129</td>\n",
       "      <td>0.47038</td>\n",
       "      <td>Zambia</td>\n",
       "    </tr>\n",
       "    <tr>\n",
       "      <td>110</td>\n",
       "      <td>Zimbabwe</td>\n",
       "      <td>33</td>\n",
       "      <td>4.1</td>\n",
       "      <td>2.16</td>\n",
       "      <td>1768.56</td>\n",
       "      <td>1230.600000</td>\n",
       "      <td>43.150000</td>\n",
       "      <td>'Sub-Saharan Africa'</td>\n",
       "      <td>4.610</td>\n",
       "      <td>0.27100</td>\n",
       "      <td>Zimbabwe</td>\n",
       "    </tr>\n",
       "  </tbody>\n",
       "</table>\n",
       "<p>111 rows × 11 columns</p>\n",
       "</div>"
      ],
      "text/plain": [
       "          country  adjusted_satisfaction  avg_satisfaction  std_satisfaction  \\\n",
       "0         Armenia                     37               4.9              2.42   \n",
       "1          Angola                     26               4.3              3.19   \n",
       "2       Argentina                     60               7.1              1.91   \n",
       "3         Austria                     59               7.2              2.11   \n",
       "4       Australia                     65               7.6              1.80   \n",
       "..            ...                    ...               ...               ...   \n",
       "106       Uruguay                     58               7.0              2.13   \n",
       "107       Vietnam                     53               6.1              1.77   \n",
       "108  South Africa                     49               6.3              2.47   \n",
       "109        Zambia                     37               5.0              2.61   \n",
       "110      Zimbabwe                     33               4.1              2.16   \n",
       "\n",
       "     avg_income  median_income  income_inequality  \\\n",
       "0       2096.76    1731.506667          31.445556   \n",
       "1       1448.88    1044.240000          42.720000   \n",
       "2       7101.12    5109.400000          45.475556   \n",
       "3      19457.04   16879.620000          30.296250   \n",
       "4      19917.00   15846.060000          35.285000   \n",
       "..          ...            ...                ...   \n",
       "106     7544.40    5269.226667          45.014444   \n",
       "107     2231.40    1643.580000          39.242500   \n",
       "108     3889.32    1506.400000          63.726667   \n",
       "109      956.76     510.060000          55.120000   \n",
       "110     1768.56    1230.600000          43.150000   \n",
       "\n",
       "                            region  happyScore      GDP     country.1  \n",
       "0     'Central and Eastern Europe'       4.350  0.76821       Armenia  \n",
       "1             'Sub-Saharan Africa'       4.033  0.75778        Angola  \n",
       "2    'Latin America and Caribbean'       6.574  1.05351     Argentina  \n",
       "3                 'Western Europe'       7.200  1.33723       Austria  \n",
       "4      'Australia and New Zealand'       7.284  1.33358     Australia  \n",
       "..                             ...         ...      ...           ...  \n",
       "106  'Latin America and Caribbean'       6.485  1.06166       Uruguay  \n",
       "107            'Southeastern Asia'       5.360  0.63216       Vietnam  \n",
       "108           'Sub-Saharan Africa'       4.642  0.92049  South Africa  \n",
       "109           'Sub-Saharan Africa'       5.129  0.47038        Zambia  \n",
       "110           'Sub-Saharan Africa'       4.610  0.27100      Zimbabwe  \n",
       "\n",
       "[111 rows x 11 columns]"
      ]
     },
     "execution_count": 9,
     "metadata": {},
     "output_type": "execute_result"
    }
   ],
   "source": [
    "happy_data"
   ]
  },
  {
   "cell_type": "code",
   "execution_count": 10,
   "metadata": {},
   "outputs": [
    {
     "data": {
      "text/html": [
       "<div>\n",
       "<style scoped>\n",
       "    .dataframe tbody tr th:only-of-type {\n",
       "        vertical-align: middle;\n",
       "    }\n",
       "\n",
       "    .dataframe tbody tr th {\n",
       "        vertical-align: top;\n",
       "    }\n",
       "\n",
       "    .dataframe thead th {\n",
       "        text-align: right;\n",
       "    }\n",
       "</style>\n",
       "<table border=\"1\" class=\"dataframe\">\n",
       "  <thead>\n",
       "    <tr style=\"text-align: right;\">\n",
       "      <th></th>\n",
       "      <th>country</th>\n",
       "      <th>adjusted_satisfaction</th>\n",
       "      <th>avg_satisfaction</th>\n",
       "      <th>std_satisfaction</th>\n",
       "      <th>avg_income</th>\n",
       "      <th>median_income</th>\n",
       "      <th>income_inequality</th>\n",
       "      <th>region</th>\n",
       "      <th>happyScore</th>\n",
       "      <th>GDP</th>\n",
       "      <th>country.1</th>\n",
       "    </tr>\n",
       "  </thead>\n",
       "  <tbody>\n",
       "    <tr>\n",
       "      <td>3</td>\n",
       "      <td>Austria</td>\n",
       "      <td>59</td>\n",
       "      <td>7.2</td>\n",
       "      <td>2.11</td>\n",
       "      <td>19457.040</td>\n",
       "      <td>16879.620</td>\n",
       "      <td>30.29625</td>\n",
       "      <td>'Western Europe'</td>\n",
       "      <td>7.200</td>\n",
       "      <td>1.33723</td>\n",
       "      <td>Austria</td>\n",
       "    </tr>\n",
       "    <tr>\n",
       "      <td>4</td>\n",
       "      <td>Australia</td>\n",
       "      <td>65</td>\n",
       "      <td>7.6</td>\n",
       "      <td>1.80</td>\n",
       "      <td>19917.000</td>\n",
       "      <td>15846.060</td>\n",
       "      <td>35.28500</td>\n",
       "      <td>'Australia and New Zealand'</td>\n",
       "      <td>7.284</td>\n",
       "      <td>1.33358</td>\n",
       "      <td>Australia</td>\n",
       "    </tr>\n",
       "    <tr>\n",
       "      <td>7</td>\n",
       "      <td>Belgium</td>\n",
       "      <td>63</td>\n",
       "      <td>7.2</td>\n",
       "      <td>1.72</td>\n",
       "      <td>17168.505</td>\n",
       "      <td>15166.455</td>\n",
       "      <td>28.74500</td>\n",
       "      <td>'Western Europe'</td>\n",
       "      <td>6.937</td>\n",
       "      <td>1.30782</td>\n",
       "      <td>Belgium</td>\n",
       "    </tr>\n",
       "    <tr>\n",
       "      <td>16</td>\n",
       "      <td>Canada</td>\n",
       "      <td>69</td>\n",
       "      <td>8.0</td>\n",
       "      <td>1.71</td>\n",
       "      <td>20190.780</td>\n",
       "      <td>16829.100</td>\n",
       "      <td>33.79000</td>\n",
       "      <td>'North America'</td>\n",
       "      <td>7.427</td>\n",
       "      <td>1.32629</td>\n",
       "      <td>Canada</td>\n",
       "    </tr>\n",
       "    <tr>\n",
       "      <td>17</td>\n",
       "      <td>Switzerland</td>\n",
       "      <td>70</td>\n",
       "      <td>8.0</td>\n",
       "      <td>1.62</td>\n",
       "      <td>23400.040</td>\n",
       "      <td>19442.920</td>\n",
       "      <td>32.93000</td>\n",
       "      <td>'Western Europe'</td>\n",
       "      <td>7.587</td>\n",
       "      <td>1.39651</td>\n",
       "      <td>Switzerland</td>\n",
       "    </tr>\n",
       "  </tbody>\n",
       "</table>\n",
       "</div>"
      ],
      "text/plain": [
       "        country  adjusted_satisfaction  avg_satisfaction  std_satisfaction  \\\n",
       "3       Austria                     59               7.2              2.11   \n",
       "4     Australia                     65               7.6              1.80   \n",
       "7       Belgium                     63               7.2              1.72   \n",
       "16       Canada                     69               8.0              1.71   \n",
       "17  Switzerland                     70               8.0              1.62   \n",
       "\n",
       "    avg_income  median_income  income_inequality                       region  \\\n",
       "3    19457.040      16879.620           30.29625             'Western Europe'   \n",
       "4    19917.000      15846.060           35.28500  'Australia and New Zealand'   \n",
       "7    17168.505      15166.455           28.74500             'Western Europe'   \n",
       "16   20190.780      16829.100           33.79000              'North America'   \n",
       "17   23400.040      19442.920           32.93000             'Western Europe'   \n",
       "\n",
       "    happyScore      GDP    country.1  \n",
       "3        7.200  1.33723      Austria  \n",
       "4        7.284  1.33358    Australia  \n",
       "7        6.937  1.30782      Belgium  \n",
       "16       7.427  1.32629       Canada  \n",
       "17       7.587  1.39651  Switzerland  "
      ]
     },
     "execution_count": 10,
     "metadata": {},
     "output_type": "execute_result"
    }
   ],
   "source": [
    "rich_country = happy_data[happy_data['avg_income']>15000]\n",
    "\n",
    "rich_country.head()"
   ]
  },
  {
   "cell_type": "code",
   "execution_count": 11,
   "metadata": {},
   "outputs": [
    {
     "data": {
      "text/html": [
       "<div>\n",
       "<style scoped>\n",
       "    .dataframe tbody tr th:only-of-type {\n",
       "        vertical-align: middle;\n",
       "    }\n",
       "\n",
       "    .dataframe tbody tr th {\n",
       "        vertical-align: top;\n",
       "    }\n",
       "\n",
       "    .dataframe thead th {\n",
       "        text-align: right;\n",
       "    }\n",
       "</style>\n",
       "<table border=\"1\" class=\"dataframe\">\n",
       "  <thead>\n",
       "    <tr style=\"text-align: right;\">\n",
       "      <th></th>\n",
       "      <th>country</th>\n",
       "      <th>adjusted_satisfaction</th>\n",
       "      <th>avg_satisfaction</th>\n",
       "      <th>std_satisfaction</th>\n",
       "      <th>avg_income</th>\n",
       "      <th>median_income</th>\n",
       "      <th>income_inequality</th>\n",
       "      <th>region</th>\n",
       "      <th>happyScore</th>\n",
       "      <th>GDP</th>\n",
       "      <th>country.1</th>\n",
       "    </tr>\n",
       "  </thead>\n",
       "  <tbody>\n",
       "    <tr>\n",
       "      <td>61</td>\n",
       "      <td>Luxembourg</td>\n",
       "      <td>66</td>\n",
       "      <td>7.7</td>\n",
       "      <td>1.76</td>\n",
       "      <td>26182.275</td>\n",
       "      <td>22240.23</td>\n",
       "      <td>31.9500</td>\n",
       "      <td>'Western Europe'</td>\n",
       "      <td>6.946</td>\n",
       "      <td>1.56391</td>\n",
       "      <td>Luxembourg</td>\n",
       "    </tr>\n",
       "    <tr>\n",
       "      <td>17</td>\n",
       "      <td>Switzerland</td>\n",
       "      <td>70</td>\n",
       "      <td>8.0</td>\n",
       "      <td>1.62</td>\n",
       "      <td>23400.040</td>\n",
       "      <td>19442.92</td>\n",
       "      <td>32.9300</td>\n",
       "      <td>'Western Europe'</td>\n",
       "      <td>7.587</td>\n",
       "      <td>1.39651</td>\n",
       "      <td>Switzerland</td>\n",
       "    </tr>\n",
       "    <tr>\n",
       "      <td>105</td>\n",
       "      <td>United States</td>\n",
       "      <td>62</td>\n",
       "      <td>7.3</td>\n",
       "      <td>1.92</td>\n",
       "      <td>23127.000</td>\n",
       "      <td>17925.36</td>\n",
       "      <td>41.0900</td>\n",
       "      <td>'North America'</td>\n",
       "      <td>7.119</td>\n",
       "      <td>1.39451</td>\n",
       "      <td>United States</td>\n",
       "    </tr>\n",
       "    <tr>\n",
       "      <td>77</td>\n",
       "      <td>Norway</td>\n",
       "      <td>70</td>\n",
       "      <td>8.0</td>\n",
       "      <td>1.62</td>\n",
       "      <td>21877.710</td>\n",
       "      <td>19477.62</td>\n",
       "      <td>27.3075</td>\n",
       "      <td>'Western Europe'</td>\n",
       "      <td>7.522</td>\n",
       "      <td>1.45900</td>\n",
       "      <td>Norway</td>\n",
       "    </tr>\n",
       "    <tr>\n",
       "      <td>16</td>\n",
       "      <td>Canada</td>\n",
       "      <td>69</td>\n",
       "      <td>8.0</td>\n",
       "      <td>1.71</td>\n",
       "      <td>20190.780</td>\n",
       "      <td>16829.10</td>\n",
       "      <td>33.7900</td>\n",
       "      <td>'North America'</td>\n",
       "      <td>7.427</td>\n",
       "      <td>1.32629</td>\n",
       "      <td>Canada</td>\n",
       "    </tr>\n",
       "  </tbody>\n",
       "</table>\n",
       "</div>"
      ],
      "text/plain": [
       "           country  adjusted_satisfaction  avg_satisfaction  std_satisfaction  \\\n",
       "61      Luxembourg                     66               7.7              1.76   \n",
       "17     Switzerland                     70               8.0              1.62   \n",
       "105  United States                     62               7.3              1.92   \n",
       "77          Norway                     70               8.0              1.62   \n",
       "16          Canada                     69               8.0              1.71   \n",
       "\n",
       "     avg_income  median_income  income_inequality            region  \\\n",
       "61    26182.275       22240.23            31.9500  'Western Europe'   \n",
       "17    23400.040       19442.92            32.9300  'Western Europe'   \n",
       "105   23127.000       17925.36            41.0900   'North America'   \n",
       "77    21877.710       19477.62            27.3075  'Western Europe'   \n",
       "16    20190.780       16829.10            33.7900   'North America'   \n",
       "\n",
       "     happyScore      GDP      country.1  \n",
       "61        6.946  1.56391     Luxembourg  \n",
       "17        7.587  1.39651    Switzerland  \n",
       "105       7.119  1.39451  United States  \n",
       "77        7.522  1.45900         Norway  \n",
       "16        7.427  1.32629         Canada  "
      ]
     },
     "execution_count": 11,
     "metadata": {},
     "output_type": "execute_result"
    }
   ],
   "source": [
    "rich_country.sort_values(\"avg_income\", ascending=False).head()"
   ]
  },
  {
   "cell_type": "code",
   "execution_count": 12,
   "metadata": {},
   "outputs": [
    {
     "data": {
      "text/plain": [
       "Text(0, 0.5, 'Happiness degree')"
      ]
     },
     "execution_count": 12,
     "metadata": {},
     "output_type": "execute_result"
    },
    {
     "data": {
      "image/png": "[encoded data removed]",
      "text/plain": [
       "<Figure size 432x288 with 1 Axes>"
      ]
     },
     "metadata": {
      "needs_background": "light"
     },
     "output_type": "display_data"
    }
   ],
   "source": [
    "plt.scatter(rich_country['avg_income'], rich_country[\"happyScore\"])\n",
    "plt.xlabel('income', )\n",
    "plt.ylabel('Happiness degree')"
   ]
  },
  {
   "cell_type": "code",
   "execution_count": 13,
   "metadata": {},
   "outputs": [
    {
     "data": {
      "image/png": "[encoded data removed]",
      "text/plain": [
       "<Figure size 432x288 with 1 Axes>"
      ]
     },
     "metadata": {
      "needs_background": "light"
     },
     "output_type": "display_data"
    }
   ],
   "source": [
    "plt.scatter(rich_country['avg_income'], rich_country[\"happyScore\"])\n",
    "plt.xlabel('income', )\n",
    "plt.ylabel('Happiness degree')\n",
    "\n",
    "for k, row in rich_country.iterrows():\n",
    "    plt.text(row['avg_income'],\n",
    "             row['happyScore'],\n",
    "            row['country'])"
   ]
  },
  {
   "cell_type": "code",
   "execution_count": 14,
   "metadata": {},
   "outputs": [
    {
     "name": "stdout",
     "output_type": "stream",
     "text": [
      "1\n",
      "2\n",
      "3\n",
      "4\n",
      "5\n",
      "6\n",
      "7\n",
      "next line\n",
      "2\n",
      "4\n",
      "6\n",
      "8\n",
      "10\n",
      "12\n",
      "14\n",
      "next line\n",
      "3\n",
      "6\n",
      "9\n",
      "12\n",
      "15\n",
      "18\n",
      "21\n",
      "next line\n",
      "4\n",
      "8\n",
      "12\n",
      "16\n",
      "20\n",
      "24\n",
      "28\n",
      "next line\n",
      "5\n",
      "10\n",
      "15\n",
      "20\n",
      "25\n",
      "30\n",
      "35\n",
      "next line\n",
      "   \n",
      "the mulitiplication table has finished\n"
     ]
    }
   ],
   "source": [
    "for i in range(1,6):\n",
    "    for j in range(1,8):\n",
    "        answer = i*j\n",
    "        print(answer)\n",
    "    print(\"next line\")\n",
    "print(\"   \")\n",
    "print(\"the mulitiplication table has finished\")"
   ]
  },
  {
   "cell_type": "code",
   "execution_count": 15,
   "metadata": {},
   "outputs": [
    {
     "data": {
      "image/png": "[encoded data removed]",
      "text/plain": [
       "<Figure size 432x288 with 1 Axes>"
      ]
     },
     "metadata": {
      "needs_background": "light"
     },
     "output_type": "display_data"
    }
   ],
   "source": [
    "plt.scatter(happy_data[\"avg_income\"], happy_data['happyScore'], s = 100)\n",
    "for k,row in happy_data.iterrows():\n",
    "    plt.text(row['avg_income'], row[\"happyScore\"],row[\"country\"])"
   ]
  },
  {
   "cell_type": "code",
   "execution_count": 16,
   "metadata": {},
   "outputs": [],
   "source": [
    "happy = happy_data[\"happyScore\"]\n",
    "income = happy_data[\"avg_income\"]"
   ]
  },
  {
   "cell_type": "code",
   "execution_count": 17,
   "metadata": {},
   "outputs": [
    {
     "data": {
      "text/plain": [
       "<matplotlib.collections.PathCollection at 0x24f5b818408>"
      ]
     },
     "execution_count": 17,
     "metadata": {},
     "output_type": "execute_result"
    },
    {
     "data": {
      "image/png": "[encoded data removed]",
      "text/plain": [
       "<Figure size 432x288 with 1 Axes>"
      ]
     },
     "metadata": {
      "needs_background": "light"
     },
     "output_type": "display_data"
    }
   ],
   "source": [
    "from sklearn.cluster import KMeans\n",
    "\n",
    "income_happy = np.column_stack(((happy_data[\"avg_income\"], happy_data['happyScore'])))\n",
    "\n",
    "km_result = KMeans(n_clusters=4).fit(income_happy)\n",
    "\n",
    "clusters = km_result.cluster_centers_\n",
    "\n",
    "plt.scatter(happy_data[\"avg_income\"], happy_data['happyScore'], )\n",
    "plt.scatter(clusters[:,0], clusters[:,1], s = 400)"
   ]
  },
  {
   "cell_type": "code",
   "execution_count": 18,
   "metadata": {},
   "outputs": [
    {
     "data": {
      "text/plain": [
       "array([[1.77870588e+03, 4.56372222e+00],\n",
       "       [1.94919211e+04, 7.19941176e+00],\n",
       "       [5.79593359e+03, 5.78896774e+00],\n",
       "       [1.20065211e+04, 5.94922222e+00]])"
      ]
     },
     "execution_count": 18,
     "metadata": {},
     "output_type": "execute_result"
    }
   ],
   "source": [
    "km_result.cluster_centers_"
   ]
  },
  {
   "cell_type": "code",
   "execution_count": 104,
   "metadata": {},
   "outputs": [
    {
     "data": {
      "text/plain": [
       "'0.21.3'"
      ]
     },
     "execution_count": 104,
     "metadata": {},
     "output_type": "execute_result"
    }
   ],
   "source": [
    "import sklearn\n",
    "sklearn.__version__"
   ]
  },
  {
   "cell_type": "code",
   "execution_count": 105,
   "metadata": {},
   "outputs": [
    {
     "data": {
      "text/plain": [
       "'0.25.1'"
      ]
     },
     "execution_count": 105,
     "metadata": {},
     "output_type": "execute_result"
    }
   ],
   "source": [
    "pd.__version__"
   ]
  },
  {
   "cell_type": "code",
   "execution_count": 106,
   "metadata": {},
   "outputs": [
    {
     "data": {
      "text/plain": [
       "'1.16.5'"
      ]
     },
     "execution_count": 106,
     "metadata": {},
     "output_type": "execute_result"
    }
   ],
   "source": [
    "np.__version__"
   ]
  },
  {
   "cell_type": "code",
   "execution_count": 19,
   "metadata": {},
   "outputs": [
    {
     "data": {
      "text/plain": [
       "array([[2.09676000e+03, 4.35000000e+00],\n",
       "       [1.44888000e+03, 4.03300000e+00],\n",
       "       [7.10112000e+03, 6.57400000e+00],\n",
       "       [1.94570400e+04, 7.20000000e+00],\n",
       "       [1.99170000e+04, 7.28400000e+00],\n",
       "       [3.38160000e+03, 5.21200000e+00],\n",
       "       [1.26534000e+03, 4.69400000e+00],\n",
       "       [1.71685050e+04, 6.93700000e+00],\n",
       "       [8.70840000e+02, 3.58700000e+00],\n",
       "       [5.35482000e+03, 4.21800000e+00],\n",
       "       [5.72880000e+02, 2.90500000e+00],\n",
       "       [9.89040000e+02, 3.34000000e+00],\n",
       "       [3.98571000e+03, 5.89000000e+00],\n",
       "       [5.56723500e+03, 6.98300000e+00],\n",
       "       [3.48468000e+03, 4.33200000e+00],\n",
       "       [5.45393333e+03, 5.81300000e+00],\n",
       "       [2.01907800e+04, 7.42700000e+00],\n",
       "       [2.34000400e+04, 7.58700000e+00],\n",
       "       [7.55799000e+03, 6.67000000e+00],\n",
       "       [1.49052000e+03, 4.25200000e+00],\n",
       "       [2.67364286e+03, 5.14000000e+00],\n",
       "       [4.61806286e+03, 6.47700000e+00],\n",
       "       [6.90146667e+03, 7.22600000e+00],\n",
       "       [1.04939550e+04, 5.68900000e+00],\n",
       "       [9.43090500e+03, 6.50500000e+00],\n",
       "       [1.92859600e+04, 6.75000000e+00],\n",
       "       [1.87524000e+03, 4.36900000e+00],\n",
       "       [1.74965100e+04, 7.52700000e+00],\n",
       "       [4.43076000e+03, 4.88500000e+00],\n",
       "       [3.83565333e+03, 5.97500000e+00],\n",
       "       [7.90672500e+03, 5.42900000e+00],\n",
       "       [1.38429900e+04, 6.32900000e+00],\n",
       "       [1.05072000e+03, 4.51200000e+00],\n",
       "       [1.73101950e+04, 7.40600000e+00],\n",
       "       [1.80967886e+04, 6.57500000e+00],\n",
       "       [2.52096000e+03, 3.89600000e+00],\n",
       "       [1.70995500e+04, 6.86700000e+00],\n",
       "       [1.95726667e+03, 4.29700000e+00],\n",
       "       [1.57704000e+03, 4.63300000e+00],\n",
       "       [1.15075650e+04, 4.85700000e+00],\n",
       "       [3.08044000e+03, 4.78800000e+00],\n",
       "       [7.82808000e+03, 5.75900000e+00],\n",
       "       [6.90388364e+03, 4.80000000e+00],\n",
       "       [1.54174737e+03, 5.39900000e+00],\n",
       "       [1.66577700e+04, 6.94000000e+00],\n",
       "       [1.06452400e+04, 7.27800000e+00],\n",
       "       [1.35784800e+03, 4.56500000e+00],\n",
       "       [5.21504000e+03, 4.68600000e+00],\n",
       "       [1.88283450e+04, 7.56100000e+00],\n",
       "       [1.54375950e+04, 5.94800000e+00],\n",
       "       [1.45428000e+04, 5.98700000e+00],\n",
       "       [1.49268000e+03, 4.41900000e+00],\n",
       "       [1.85264000e+03, 5.28600000e+00],\n",
       "       [1.86872000e+03, 3.81900000e+00],\n",
       "       [2.62700571e+03, 5.58900000e+00],\n",
       "       [3.55509333e+03, 5.85500000e+00],\n",
       "       [1.49172000e+03, 4.87600000e+00],\n",
       "       [2.55828000e+03, 4.27100000e+00],\n",
       "       [6.53040000e+02, 4.57100000e+00],\n",
       "       [9.08640000e+02, 4.89800000e+00],\n",
       "       [6.78916000e+03, 5.83300000e+00],\n",
       "       [2.61822750e+04, 6.94600000e+00],\n",
       "       [6.72290182e+03, 5.09800000e+00],\n",
       "       [2.86488000e+03, 5.01300000e+00],\n",
       "       [3.07728000e+03, 5.88900000e+00],\n",
       "       [5.74200000e+02, 3.68100000e+00],\n",
       "       [9.03300000e+02, 3.99500000e+00],\n",
       "       [3.18180000e+03, 4.87400000e+00],\n",
       "       [1.92264000e+03, 4.43600000e+00],\n",
       "       [4.12050000e+03, 5.47700000e+00],\n",
       "       [4.14800000e+03, 7.18700000e+00],\n",
       "       [7.28682000e+03, 5.77000000e+00],\n",
       "       [7.14720000e+02, 4.97100000e+00],\n",
       "       [7.18400000e+02, 3.84500000e+00],\n",
       "       [9.10320000e+02, 5.26800000e+00],\n",
       "       [2.41920000e+03, 5.82800000e+00],\n",
       "       [1.82344350e+04, 7.37800000e+00],\n",
       "       [2.18777100e+04, 7.52200000e+00],\n",
       "       [1.42812000e+03, 4.51400000e+00],\n",
       "       [6.25036000e+03, 6.78600000e+00],\n",
       "       [4.31266667e+03, 5.82400000e+00],\n",
       "       [2.22446400e+03, 5.07300000e+00],\n",
       "       [1.46385600e+03, 5.19400000e+00],\n",
       "       [6.58246588e+03, 5.79100000e+00],\n",
       "       [9.98287500e+03, 5.10200000e+00],\n",
       "       [4.93852000e+03, 5.87800000e+00],\n",
       "       [3.17415000e+03, 5.12400000e+00],\n",
       "       [4.62990857e+03, 5.12300000e+00],\n",
       "       [7.64719500e+03, 5.71600000e+00],\n",
       "       [9.46520000e+02, 3.46500000e+00],\n",
       "       [1.70327550e+04, 7.36400000e+00],\n",
       "       [1.21747650e+04, 5.84800000e+00],\n",
       "       [7.98639692e+03, 5.99500000e+00],\n",
       "       [8.50080000e+02, 4.50700000e+00],\n",
       "       [1.13508000e+03, 3.90400000e+00],\n",
       "       [3.41089333e+03, 6.13000000e+00],\n",
       "       [1.17768000e+03, 3.66700000e+00],\n",
       "       [9.36360000e+02, 2.83900000e+00],\n",
       "       [4.79250000e+03, 6.45500000e+00],\n",
       "       [1.49703000e+03, 4.78600000e+00],\n",
       "       [3.25128000e+03, 4.73900000e+00],\n",
       "       [5.24266667e+03, 5.33200000e+00],\n",
       "       [9.41400000e+02, 3.78100000e+00],\n",
       "       [4.12968000e+03, 4.68100000e+00],\n",
       "       [1.12648000e+03, 3.93100000e+00],\n",
       "       [2.31270000e+04, 7.11900000e+00],\n",
       "       [7.54440000e+03, 6.48500000e+00],\n",
       "       [2.23140000e+03, 5.36000000e+00],\n",
       "       [3.88932000e+03, 4.64200000e+00],\n",
       "       [9.56760000e+02, 5.12900000e+00],\n",
       "       [1.76856000e+03, 4.61000000e+00]])"
      ]
     },
     "execution_count": 19,
     "metadata": {},
     "output_type": "execute_result"
    }
   ],
   "source": [
    "income_happy"
   ]
  },
  {
   "cell_type": "code",
   "execution_count": null,
   "metadata": {},
   "outputs": [],
   "source": [
    "a = np.column_stack()"
   ]
  }
 ],
 "metadata": {
  "kernelspec": {
   "display_name": "Python 3",
   "language": "python",
   "name": "python3"
  },
  "language_info": {
   "codemirror_mode": {
    "name": "ipython",
    "version": 3
   },
   "file_extension": ".py",
   "mimetype": "text/x-python",
   "name": "python",
   "nbconvert_exporter": "python",
   "pygments_lexer": "ipython3",
   "version": "3.7.4"
  }
 },
 "nbformat": 4,
 "nbformat_minor": 2
}
